{
  "nbformat": 4,
  "nbformat_minor": 0,
  "metadata": {
    "colab": {
      "provenance": [],
      "authorship_tag": "ABX9TyNMnpdTWr8vL13rZ1zyOLEB",
      "include_colab_link": true
    },
    "kernelspec": {
      "name": "python3",
      "display_name": "Python 3"
    },
    "language_info": {
      "name": "python"
    }
  },
  "cells": [
    {
      "cell_type": "markdown",
      "metadata": {
        "id": "view-in-github",
        "colab_type": "text"
      },
      "source": [
        "<a href=\"https://colab.research.google.com/github/almazius/Almaz/blob/main/laba_4_data.ipynb\" target=\"_parent\"><img src=\"https://colab.research.google.com/assets/colab-badge.svg\" alt=\"Open In Colab\"/></a>"
      ]
    },
    {
      "cell_type": "code",
      "execution_count": null,
      "metadata": {
        "id": "5Ahu5SujD7Su"
      },
      "outputs": [],
      "source": [
        "import numpy as np\n",
        "import pandas as pd\n",
        "import matplotlib.pyplot as plt\n",
        "import seaborn as sns\n",
        "import warnings\n",
        "\n",
        "warnings.filterwarnings('ignore')"
      ]
    },
    {
      "cell_type": "code",
      "source": [
        "data = pd.read_csv(\"sample_data/cannabis.csv\")\n",
        "data.head(10)\n"
      ],
      "metadata": {
        "colab": {
          "base_uri": "https://localhost:8080/",
          "height": 407
        },
        "id": "x23vHuwMEddc",
        "outputId": "06db16f5-31b3-47c1-be45-e9fbab24f079"
      },
      "execution_count": null,
      "outputs": [
        {
          "output_type": "execute_result",
          "data": {
            "text/plain": [
              "           Strain    Type  Rating                                     Effects  \\\n",
              "0          100-Og  hybrid     4.0  Creative,Energetic,Tingly,Euphoric,Relaxed   \n",
              "1  98-White-Widow  hybrid     4.7    Relaxed,Aroused,Creative,Happy,Energetic   \n",
              "2            1024  sativa     4.4   Uplifted,Happy,Relaxed,Energetic,Creative   \n",
              "3        13-Dawgs  hybrid     4.2     Tingly,Creative,Hungry,Relaxed,Uplifted   \n",
              "4        24K-Gold  hybrid     4.6   Happy,Relaxed,Euphoric,Uplifted,Talkative   \n",
              "5      3-Bears-Og  indica     0.0                                        None   \n",
              "6         3-Kings  hybrid     4.4      Relaxed,Euphoric,Happy,Uplifted,Hungry   \n",
              "7          303-Og  indica     4.2      Relaxed,Happy,Euphoric,Uplifted,Giggly   \n",
              "8          3D-Cbd  sativa     4.6    Uplifted,Focused,Happy,Talkative,Relaxed   \n",
              "9        3X-Crazy  indica     4.4      Relaxed,Tingly,Happy,Euphoric,Uplifted   \n",
              "\n",
              "                      Flavor  \\\n",
              "0        Earthy,Sweet,Citrus   \n",
              "1      Flowery,Violet,Diesel   \n",
              "2    Spicy/Herbal,Sage,Woody   \n",
              "3  Apricot,Citrus,Grapefruit   \n",
              "4       Citrus,Earthy,Orange   \n",
              "5                       None   \n",
              "6       Earthy,Sweet,Pungent   \n",
              "7      Citrus,Pungent,Earthy   \n",
              "8       Earthy,Woody,Flowery   \n",
              "9         Earthy,Grape,Sweet   \n",
              "\n",
              "                                         Description  \n",
              "0  $100 OG is a 50/50 hybrid strain that packs a ...  \n",
              "1  The ‘98 Aloha White Widow is an especially pot...  \n",
              "2  1024 is a sativa-dominant hybrid bred in Spain...  \n",
              "3  13 Dawgs is a hybrid of G13 and Chemdawg genet...  \n",
              "4  Also known as Kosher Tangie, 24k Gold is a 60%...  \n",
              "5  3 Bears OG by Mephisto Genetics is an autoflow...  \n",
              "6  The 3 Kings marijuana strain, a holy trinity o...  \n",
              "7  The indica-dominant 303 OG is a Colorado strai...  \n",
              "8  3D CBD from Snoop Dogg’s branded line of canna...  \n",
              "9  Also known as Optimus Prime, the indica-domina...  "
            ],
            "text/html": [
              "\n",
              "  <div id=\"df-87d1be0a-6937-4aab-86be-b461a77a0b45\">\n",
              "    <div class=\"colab-df-container\">\n",
              "      <div>\n",
              "<style scoped>\n",
              "    .dataframe tbody tr th:only-of-type {\n",
              "        vertical-align: middle;\n",
              "    }\n",
              "\n",
              "    .dataframe tbody tr th {\n",
              "        vertical-align: top;\n",
              "    }\n",
              "\n",
              "    .dataframe thead th {\n",
              "        text-align: right;\n",
              "    }\n",
              "</style>\n",
              "<table border=\"1\" class=\"dataframe\">\n",
              "  <thead>\n",
              "    <tr style=\"text-align: right;\">\n",
              "      <th></th>\n",
              "      <th>Strain</th>\n",
              "      <th>Type</th>\n",
              "      <th>Rating</th>\n",
              "      <th>Effects</th>\n",
              "      <th>Flavor</th>\n",
              "      <th>Description</th>\n",
              "    </tr>\n",
              "  </thead>\n",
              "  <tbody>\n",
              "    <tr>\n",
              "      <th>0</th>\n",
              "      <td>100-Og</td>\n",
              "      <td>hybrid</td>\n",
              "      <td>4.0</td>\n",
              "      <td>Creative,Energetic,Tingly,Euphoric,Relaxed</td>\n",
              "      <td>Earthy,Sweet,Citrus</td>\n",
              "      <td>$100 OG is a 50/50 hybrid strain that packs a ...</td>\n",
              "    </tr>\n",
              "    <tr>\n",
              "      <th>1</th>\n",
              "      <td>98-White-Widow</td>\n",
              "      <td>hybrid</td>\n",
              "      <td>4.7</td>\n",
              "      <td>Relaxed,Aroused,Creative,Happy,Energetic</td>\n",
              "      <td>Flowery,Violet,Diesel</td>\n",
              "      <td>The ‘98 Aloha White Widow is an especially pot...</td>\n",
              "    </tr>\n",
              "    <tr>\n",
              "      <th>2</th>\n",
              "      <td>1024</td>\n",
              "      <td>sativa</td>\n",
              "      <td>4.4</td>\n",
              "      <td>Uplifted,Happy,Relaxed,Energetic,Creative</td>\n",
              "      <td>Spicy/Herbal,Sage,Woody</td>\n",
              "      <td>1024 is a sativa-dominant hybrid bred in Spain...</td>\n",
              "    </tr>\n",
              "    <tr>\n",
              "      <th>3</th>\n",
              "      <td>13-Dawgs</td>\n",
              "      <td>hybrid</td>\n",
              "      <td>4.2</td>\n",
              "      <td>Tingly,Creative,Hungry,Relaxed,Uplifted</td>\n",
              "      <td>Apricot,Citrus,Grapefruit</td>\n",
              "      <td>13 Dawgs is a hybrid of G13 and Chemdawg genet...</td>\n",
              "    </tr>\n",
              "    <tr>\n",
              "      <th>4</th>\n",
              "      <td>24K-Gold</td>\n",
              "      <td>hybrid</td>\n",
              "      <td>4.6</td>\n",
              "      <td>Happy,Relaxed,Euphoric,Uplifted,Talkative</td>\n",
              "      <td>Citrus,Earthy,Orange</td>\n",
              "      <td>Also known as Kosher Tangie, 24k Gold is a 60%...</td>\n",
              "    </tr>\n",
              "    <tr>\n",
              "      <th>5</th>\n",
              "      <td>3-Bears-Og</td>\n",
              "      <td>indica</td>\n",
              "      <td>0.0</td>\n",
              "      <td>None</td>\n",
              "      <td>None</td>\n",
              "      <td>3 Bears OG by Mephisto Genetics is an autoflow...</td>\n",
              "    </tr>\n",
              "    <tr>\n",
              "      <th>6</th>\n",
              "      <td>3-Kings</td>\n",
              "      <td>hybrid</td>\n",
              "      <td>4.4</td>\n",
              "      <td>Relaxed,Euphoric,Happy,Uplifted,Hungry</td>\n",
              "      <td>Earthy,Sweet,Pungent</td>\n",
              "      <td>The 3 Kings marijuana strain, a holy trinity o...</td>\n",
              "    </tr>\n",
              "    <tr>\n",
              "      <th>7</th>\n",
              "      <td>303-Og</td>\n",
              "      <td>indica</td>\n",
              "      <td>4.2</td>\n",
              "      <td>Relaxed,Happy,Euphoric,Uplifted,Giggly</td>\n",
              "      <td>Citrus,Pungent,Earthy</td>\n",
              "      <td>The indica-dominant 303 OG is a Colorado strai...</td>\n",
              "    </tr>\n",
              "    <tr>\n",
              "      <th>8</th>\n",
              "      <td>3D-Cbd</td>\n",
              "      <td>sativa</td>\n",
              "      <td>4.6</td>\n",
              "      <td>Uplifted,Focused,Happy,Talkative,Relaxed</td>\n",
              "      <td>Earthy,Woody,Flowery</td>\n",
              "      <td>3D CBD from Snoop Dogg’s branded line of canna...</td>\n",
              "    </tr>\n",
              "    <tr>\n",
              "      <th>9</th>\n",
              "      <td>3X-Crazy</td>\n",
              "      <td>indica</td>\n",
              "      <td>4.4</td>\n",
              "      <td>Relaxed,Tingly,Happy,Euphoric,Uplifted</td>\n",
              "      <td>Earthy,Grape,Sweet</td>\n",
              "      <td>Also known as Optimus Prime, the indica-domina...</td>\n",
              "    </tr>\n",
              "  </tbody>\n",
              "</table>\n",
              "</div>\n",
              "      <button class=\"colab-df-convert\" onclick=\"convertToInteractive('df-87d1be0a-6937-4aab-86be-b461a77a0b45')\"\n",
              "              title=\"Convert this dataframe to an interactive table.\"\n",
              "              style=\"display:none;\">\n",
              "        \n",
              "  <svg xmlns=\"http://www.w3.org/2000/svg\" height=\"24px\"viewBox=\"0 0 24 24\"\n",
              "       width=\"24px\">\n",
              "    <path d=\"M0 0h24v24H0V0z\" fill=\"none\"/>\n",
              "    <path d=\"M18.56 5.44l.94 2.06.94-2.06 2.06-.94-2.06-.94-.94-2.06-.94 2.06-2.06.94zm-11 1L8.5 8.5l.94-2.06 2.06-.94-2.06-.94L8.5 2.5l-.94 2.06-2.06.94zm10 10l.94 2.06.94-2.06 2.06-.94-2.06-.94-.94-2.06-.94 2.06-2.06.94z\"/><path d=\"M17.41 7.96l-1.37-1.37c-.4-.4-.92-.59-1.43-.59-.52 0-1.04.2-1.43.59L10.3 9.45l-7.72 7.72c-.78.78-.78 2.05 0 2.83L4 21.41c.39.39.9.59 1.41.59.51 0 1.02-.2 1.41-.59l7.78-7.78 2.81-2.81c.8-.78.8-2.07 0-2.86zM5.41 20L4 18.59l7.72-7.72 1.47 1.35L5.41 20z\"/>\n",
              "  </svg>\n",
              "      </button>\n",
              "      \n",
              "  <style>\n",
              "    .colab-df-container {\n",
              "      display:flex;\n",
              "      flex-wrap:wrap;\n",
              "      gap: 12px;\n",
              "    }\n",
              "\n",
              "    .colab-df-convert {\n",
              "      background-color: #E8F0FE;\n",
              "      border: none;\n",
              "      border-radius: 50%;\n",
              "      cursor: pointer;\n",
              "      display: none;\n",
              "      fill: #1967D2;\n",
              "      height: 32px;\n",
              "      padding: 0 0 0 0;\n",
              "      width: 32px;\n",
              "    }\n",
              "\n",
              "    .colab-df-convert:hover {\n",
              "      background-color: #E2EBFA;\n",
              "      box-shadow: 0px 1px 2px rgba(60, 64, 67, 0.3), 0px 1px 3px 1px rgba(60, 64, 67, 0.15);\n",
              "      fill: #174EA6;\n",
              "    }\n",
              "\n",
              "    [theme=dark] .colab-df-convert {\n",
              "      background-color: #3B4455;\n",
              "      fill: #D2E3FC;\n",
              "    }\n",
              "\n",
              "    [theme=dark] .colab-df-convert:hover {\n",
              "      background-color: #434B5C;\n",
              "      box-shadow: 0px 1px 3px 1px rgba(0, 0, 0, 0.15);\n",
              "      filter: drop-shadow(0px 1px 2px rgba(0, 0, 0, 0.3));\n",
              "      fill: #FFFFFF;\n",
              "    }\n",
              "  </style>\n",
              "\n",
              "      <script>\n",
              "        const buttonEl =\n",
              "          document.querySelector('#df-87d1be0a-6937-4aab-86be-b461a77a0b45 button.colab-df-convert');\n",
              "        buttonEl.style.display =\n",
              "          google.colab.kernel.accessAllowed ? 'block' : 'none';\n",
              "\n",
              "        async function convertToInteractive(key) {\n",
              "          const element = document.querySelector('#df-87d1be0a-6937-4aab-86be-b461a77a0b45');\n",
              "          const dataTable =\n",
              "            await google.colab.kernel.invokeFunction('convertToInteractive',\n",
              "                                                     [key], {});\n",
              "          if (!dataTable) return;\n",
              "\n",
              "          const docLinkHtml = 'Like what you see? Visit the ' +\n",
              "            '<a target=\"_blank\" href=https://colab.research.google.com/notebooks/data_table.ipynb>data table notebook</a>'\n",
              "            + ' to learn more about interactive tables.';\n",
              "          element.innerHTML = '';\n",
              "          dataTable['output_type'] = 'display_data';\n",
              "          await google.colab.output.renderOutput(dataTable, element);\n",
              "          const docLink = document.createElement('div');\n",
              "          docLink.innerHTML = docLinkHtml;\n",
              "          element.appendChild(docLink);\n",
              "        }\n",
              "      </script>\n",
              "    </div>\n",
              "  </div>\n",
              "  "
            ]
          },
          "metadata": {},
          "execution_count": 22
        }
      ]
    },
    {
      "cell_type": "code",
      "source": [
        "data.info()\n"
      ],
      "metadata": {
        "colab": {
          "base_uri": "https://localhost:8080/"
        },
        "id": "Mk0lIxaTGXfW",
        "outputId": "1332a1d9-57b5-4fb2-a86b-8794ed658c32"
      },
      "execution_count": null,
      "outputs": [
        {
          "output_type": "stream",
          "name": "stdout",
          "text": [
            "<class 'pandas.core.frame.DataFrame'>\n",
            "RangeIndex: 2351 entries, 0 to 2350\n",
            "Data columns (total 6 columns):\n",
            " #   Column       Non-Null Count  Dtype  \n",
            "---  ------       --------------  -----  \n",
            " 0   Strain       2351 non-null   object \n",
            " 1   Type         2351 non-null   object \n",
            " 2   Rating       2351 non-null   float64\n",
            " 3   Effects      2351 non-null   object \n",
            " 4   Flavor       2305 non-null   object \n",
            " 5   Description  2318 non-null   object \n",
            "dtypes: float64(1), object(5)\n",
            "memory usage: 110.3+ KB\n"
          ]
        }
      ]
    },
    {
      "cell_type": "code",
      "source": [
        "data = data.dropna()\n",
        "data.info()"
      ],
      "metadata": {
        "colab": {
          "base_uri": "https://localhost:8080/"
        },
        "id": "mmotKbavG0do",
        "outputId": "a71406b3-f920-4171-9da5-ab3cbddf0e44"
      },
      "execution_count": null,
      "outputs": [
        {
          "output_type": "stream",
          "name": "stdout",
          "text": [
            "<class 'pandas.core.frame.DataFrame'>\n",
            "Int64Index: 2277 entries, 0 to 2350\n",
            "Data columns (total 6 columns):\n",
            " #   Column       Non-Null Count  Dtype  \n",
            "---  ------       --------------  -----  \n",
            " 0   Strain       2277 non-null   object \n",
            " 1   Type         2277 non-null   object \n",
            " 2   Rating       2277 non-null   float64\n",
            " 3   Effects      2277 non-null   object \n",
            " 4   Flavor       2277 non-null   object \n",
            " 5   Description  2277 non-null   object \n",
            "dtypes: float64(1), object(5)\n",
            "memory usage: 124.5+ KB\n"
          ]
        }
      ]
    },
    {
      "cell_type": "markdown",
      "source": [
        "Гипотеза:\n",
        "Большинство сортов сативы делает человека креативным"
      ],
      "metadata": {
        "id": "jHidp14DHeDZ"
      }
    },
    {
      "cell_type": "code",
      "source": [
        "data['Type'].value_counts()"
      ],
      "metadata": {
        "colab": {
          "base_uri": "https://localhost:8080/"
        },
        "id": "BVp1FCxXI6iG",
        "outputId": "ef896eba-d627-450d-a21b-7f87b3c2a34e"
      },
      "execution_count": null,
      "outputs": [
        {
          "output_type": "execute_result",
          "data": {
            "text/plain": [
              "hybrid    1169\n",
              "indica     680\n",
              "sativa     428\n",
              "Name: Type, dtype: int64"
            ]
          },
          "metadata": {},
          "execution_count": 10
        }
      ]
    },
    {
      "cell_type": "code",
      "source": [
        "for type in data['Type'].unique():\n",
        "  counter = 0\n",
        "  for effects in data[data['Type'] == type]['Effects']:\n",
        "    if 'Creative' in effects:\n",
        "      counter += 1\n",
        "  print(f'Тип {type} имеет {counter} эпизодов повышения креативности.')"
      ],
      "metadata": {
        "colab": {
          "base_uri": "https://localhost:8080/"
        },
        "id": "AZDhDkIYJV6r",
        "outputId": "218271af-11b1-4187-bae3-3c5fed2e0b7a"
      },
      "execution_count": null,
      "outputs": [
        {
          "output_type": "stream",
          "name": "stdout",
          "text": [
            "Тип hybrid имеет 409 эпизодов повышения креативности.\n",
            "Тип sativa имеет 186 эпизодов повышения креативности.\n",
            "Тип indica имеет 124 эпизодов повышения креативности.\n"
          ]
        }
      ]
    },
    {
      "cell_type": "code",
      "source": [
        "print(f'Процентное соотношение гибрида: {round(409/1169*100,2)} %')\n",
        "print(f'Процентное соотношение индики: {round(186/680*100,2)} %')\n",
        "print(f'Процентное соотношение сативы: {round(124/428*100, 2)} %')\n"
      ],
      "metadata": {
        "colab": {
          "base_uri": "https://localhost:8080/"
        },
        "id": "FU9LVGXJK5tz",
        "outputId": "3ee1d3ad-94d3-46bf-9699-ff19062546d0"
      },
      "execution_count": null,
      "outputs": [
        {
          "output_type": "stream",
          "name": "stdout",
          "text": [
            "Процентное соотношение гибрида: 34.99 %\n",
            "Процентное соотношение индики: 27.35 %\n",
            "Процентное соотношение сативы: 28.97 %\n"
          ]
        }
      ]
    },
    {
      "cell_type": "markdown",
      "source": [
        "Статистическая гипотеза оказалась неверной. Эффект \"Креативность\" преимущественно присутствует у сорта \"hybrid\". "
      ],
      "metadata": {
        "id": "1IgRH4sqMarl"
      }
    },
    {
      "cell_type": "code",
      "source": [
        "plt.figure(figsize=(12,6))\n",
        "\n",
        "#Total rating distribuition\n",
        "g = sns.distplot(data[\"Rating\"],\n",
        "                 bins=50)\n",
        "g.set_title(\"Рейтинг\", \n",
        "            size = 20)\n",
        "g.set_xlabel('Rating',\n",
        "             fontsize=15)\n",
        "\n",
        "plt.show()"
      ],
      "metadata": {
        "colab": {
          "base_uri": "https://localhost:8080/",
          "height": 414
        },
        "id": "28TnP1O9M2gl",
        "outputId": "96000e6a-180b-42e9-9af0-1643dfcd92ce"
      },
      "execution_count": null,
      "outputs": [
        {
          "output_type": "display_data",
          "data": {
            "text/plain": [
              "<Figure size 864x432 with 1 Axes>"
            ],
            "image/png": "[encoded data removed]"
          },
          "metadata": {
            "needs_background": "light"
          }
        }
      ]
    },
    {
      "cell_type": "markdown",
      "source": [
        "На графике распределения рейтинга видно, что почти все сорты каннабиса имеют рейтинг выше 4"
      ],
      "metadata": {
        "id": "qVoVUyh_O2ox"
      }
    },
    {
      "cell_type": "code",
      "source": [
        "pd.crosstab(data[data.Rating > 3.0]['Rating'], data.Type).T"
      ],
      "metadata": {
        "colab": {
          "base_uri": "https://localhost:8080/",
          "height": 175
        },
        "id": "xI_98AEGPUmr",
        "outputId": "4b81f556-54ec-416d-cb37-36e0385c8d4b"
      },
      "execution_count": null,
      "outputs": [
        {
          "output_type": "execute_result",
          "data": {
            "text/plain": [
              "Rating  3.1  3.2  3.3  3.4  3.5  3.6  3.7  3.8  3.9  4.0  4.1  4.2  4.3  4.4  \\\n",
              "Type                                                                           \n",
              "hybrid    1    1    2    2    5    6    7    9    9   62   56  113  150  144   \n",
              "indica    0    2    0    1    2    4    5   10   12   24   33   64   89   83   \n",
              "sativa    0    0    1    2    2    1    4    4    8   18   12   48   58   57   \n",
              "\n",
              "Rating  4.5  4.6  4.7  4.8  4.9  5.0  \n",
              "Type                                  \n",
              "hybrid  164  114   95   88   31  102  \n",
              "indica   94   78   47   41   19   70  \n",
              "sativa   59   50   22   30    9   38  "
            ],
            "text/html": [
              "\n",
              "  <div id=\"df-f139b717-420b-48fb-ad1f-5882a5d743cf\">\n",
              "    <div class=\"colab-df-container\">\n",
              "      <div>\n",
              "<style scoped>\n",
              "    .dataframe tbody tr th:only-of-type {\n",
              "        vertical-align: middle;\n",
              "    }\n",
              "\n",
              "    .dataframe tbody tr th {\n",
              "        vertical-align: top;\n",
              "    }\n",
              "\n",
              "    .dataframe thead th {\n",
              "        text-align: right;\n",
              "    }\n",
              "</style>\n",
              "<table border=\"1\" class=\"dataframe\">\n",
              "  <thead>\n",
              "    <tr style=\"text-align: right;\">\n",
              "      <th>Rating</th>\n",
              "      <th>3.1</th>\n",
              "      <th>3.2</th>\n",
              "      <th>3.3</th>\n",
              "      <th>3.4</th>\n",
              "      <th>3.5</th>\n",
              "      <th>3.6</th>\n",
              "      <th>3.7</th>\n",
              "      <th>3.8</th>\n",
              "      <th>3.9</th>\n",
              "      <th>4.0</th>\n",
              "      <th>4.1</th>\n",
              "      <th>4.2</th>\n",
              "      <th>4.3</th>\n",
              "      <th>4.4</th>\n",
              "      <th>4.5</th>\n",
              "      <th>4.6</th>\n",
              "      <th>4.7</th>\n",
              "      <th>4.8</th>\n",
              "      <th>4.9</th>\n",
              "      <th>5.0</th>\n",
              "    </tr>\n",
              "    <tr>\n",
              "      <th>Type</th>\n",
              "      <th></th>\n",
              "      <th></th>\n",
              "      <th></th>\n",
              "      <th></th>\n",
              "      <th></th>\n",
              "      <th></th>\n",
              "      <th></th>\n",
              "      <th></th>\n",
              "      <th></th>\n",
              "      <th></th>\n",
              "      <th></th>\n",
              "      <th></th>\n",
              "      <th></th>\n",
              "      <th></th>\n",
              "      <th></th>\n",
              "      <th></th>\n",
              "      <th></th>\n",
              "      <th></th>\n",
              "      <th></th>\n",
              "      <th></th>\n",
              "    </tr>\n",
              "  </thead>\n",
              "  <tbody>\n",
              "    <tr>\n",
              "      <th>hybrid</th>\n",
              "      <td>1</td>\n",
              "      <td>1</td>\n",
              "      <td>2</td>\n",
              "      <td>2</td>\n",
              "      <td>5</td>\n",
              "      <td>6</td>\n",
              "      <td>7</td>\n",
              "      <td>9</td>\n",
              "      <td>9</td>\n",
              "      <td>62</td>\n",
              "      <td>56</td>\n",
              "      <td>113</td>\n",
              "      <td>150</td>\n",
              "      <td>144</td>\n",
              "      <td>164</td>\n",
              "      <td>114</td>\n",
              "      <td>95</td>\n",
              "      <td>88</td>\n",
              "      <td>31</td>\n",
              "      <td>102</td>\n",
              "    </tr>\n",
              "    <tr>\n",
              "      <th>indica</th>\n",
              "      <td>0</td>\n",
              "      <td>2</td>\n",
              "      <td>0</td>\n",
              "      <td>1</td>\n",
              "      <td>2</td>\n",
              "      <td>4</td>\n",
              "      <td>5</td>\n",
              "      <td>10</td>\n",
              "      <td>12</td>\n",
              "      <td>24</td>\n",
              "      <td>33</td>\n",
              "      <td>64</td>\n",
              "      <td>89</td>\n",
              "      <td>83</td>\n",
              "      <td>94</td>\n",
              "      <td>78</td>\n",
              "      <td>47</td>\n",
              "      <td>41</td>\n",
              "      <td>19</td>\n",
              "      <td>70</td>\n",
              "    </tr>\n",
              "    <tr>\n",
              "      <th>sativa</th>\n",
              "      <td>0</td>\n",
              "      <td>0</td>\n",
              "      <td>1</td>\n",
              "      <td>2</td>\n",
              "      <td>2</td>\n",
              "      <td>1</td>\n",
              "      <td>4</td>\n",
              "      <td>4</td>\n",
              "      <td>8</td>\n",
              "      <td>18</td>\n",
              "      <td>12</td>\n",
              "      <td>48</td>\n",
              "      <td>58</td>\n",
              "      <td>57</td>\n",
              "      <td>59</td>\n",
              "      <td>50</td>\n",
              "      <td>22</td>\n",
              "      <td>30</td>\n",
              "      <td>9</td>\n",
              "      <td>38</td>\n",
              "    </tr>\n",
              "  </tbody>\n",
              "</table>\n",
              "</div>\n",
              "      <button class=\"colab-df-convert\" onclick=\"convertToInteractive('df-f139b717-420b-48fb-ad1f-5882a5d743cf')\"\n",
              "              title=\"Convert this dataframe to an interactive table.\"\n",
              "              style=\"display:none;\">\n",
              "        \n",
              "  <svg xmlns=\"http://www.w3.org/2000/svg\" height=\"24px\"viewBox=\"0 0 24 24\"\n",
              "       width=\"24px\">\n",
              "    <path d=\"M0 0h24v24H0V0z\" fill=\"none\"/>\n",
              "    <path d=\"M18.56 5.44l.94 2.06.94-2.06 2.06-.94-2.06-.94-.94-2.06-.94 2.06-2.06.94zm-11 1L8.5 8.5l.94-2.06 2.06-.94-2.06-.94L8.5 2.5l-.94 2.06-2.06.94zm10 10l.94 2.06.94-2.06 2.06-.94-2.06-.94-.94-2.06-.94 2.06-2.06.94z\"/><path d=\"M17.41 7.96l-1.37-1.37c-.4-.4-.92-.59-1.43-.59-.52 0-1.04.2-1.43.59L10.3 9.45l-7.72 7.72c-.78.78-.78 2.05 0 2.83L4 21.41c.39.39.9.59 1.41.59.51 0 1.02-.2 1.41-.59l7.78-7.78 2.81-2.81c.8-.78.8-2.07 0-2.86zM5.41 20L4 18.59l7.72-7.72 1.47 1.35L5.41 20z\"/>\n",
              "  </svg>\n",
              "      </button>\n",
              "      \n",
              "  <style>\n",
              "    .colab-df-container {\n",
              "      display:flex;\n",
              "      flex-wrap:wrap;\n",
              "      gap: 12px;\n",
              "    }\n",
              "\n",
              "    .colab-df-convert {\n",
              "      background-color: #E8F0FE;\n",
              "      border: none;\n",
              "      border-radius: 50%;\n",
              "      cursor: pointer;\n",
              "      display: none;\n",
              "      fill: #1967D2;\n",
              "      height: 32px;\n",
              "      padding: 0 0 0 0;\n",
              "      width: 32px;\n",
              "    }\n",
              "\n",
              "    .colab-df-convert:hover {\n",
              "      background-color: #E2EBFA;\n",
              "      box-shadow: 0px 1px 2px rgba(60, 64, 67, 0.3), 0px 1px 3px 1px rgba(60, 64, 67, 0.15);\n",
              "      fill: #174EA6;\n",
              "    }\n",
              "\n",
              "    [theme=dark] .colab-df-convert {\n",
              "      background-color: #3B4455;\n",
              "      fill: #D2E3FC;\n",
              "    }\n",
              "\n",
              "    [theme=dark] .colab-df-convert:hover {\n",
              "      background-color: #434B5C;\n",
              "      box-shadow: 0px 1px 3px 1px rgba(0, 0, 0, 0.15);\n",
              "      filter: drop-shadow(0px 1px 2px rgba(0, 0, 0, 0.3));\n",
              "      fill: #FFFFFF;\n",
              "    }\n",
              "  </style>\n",
              "\n",
              "      <script>\n",
              "        const buttonEl =\n",
              "          document.querySelector('#df-f139b717-420b-48fb-ad1f-5882a5d743cf button.colab-df-convert');\n",
              "        buttonEl.style.display =\n",
              "          google.colab.kernel.accessAllowed ? 'block' : 'none';\n",
              "\n",
              "        async function convertToInteractive(key) {\n",
              "          const element = document.querySelector('#df-f139b717-420b-48fb-ad1f-5882a5d743cf');\n",
              "          const dataTable =\n",
              "            await google.colab.kernel.invokeFunction('convertToInteractive',\n",
              "                                                     [key], {});\n",
              "          if (!dataTable) return;\n",
              "\n",
              "          const docLinkHtml = 'Like what you see? Visit the ' +\n",
              "            '<a target=\"_blank\" href=https://colab.research.google.com/notebooks/data_table.ipynb>data table notebook</a>'\n",
              "            + ' to learn more about interactive tables.';\n",
              "          element.innerHTML = '';\n",
              "          dataTable['output_type'] = 'display_data';\n",
              "          await google.colab.output.renderOutput(dataTable, element);\n",
              "          const docLink = document.createElement('div');\n",
              "          docLink.innerHTML = docLinkHtml;\n",
              "          element.appendChild(docLink);\n",
              "        }\n",
              "      </script>\n",
              "    </div>\n",
              "  </div>\n",
              "  "
            ]
          },
          "metadata": {},
          "execution_count": 28
        }
      ]
    },
    {
      "cell_type": "markdown",
      "source": [
        "Поскольку более 50% штаммов являются гибридами, мы можем видеть, что гибриды доминируют почти во всех рейтинговых значениях."
      ],
      "metadata": {
        "id": "VFKlAWhUPywi"
      }
    },
    {
      "cell_type": "code",
      "source": [
        "df_effect = pd.DataFrame(data.Effects.str.split(',',4).tolist(),\n",
        "             columns = ['Effect_1','Effect_2','Effect_3','Effect_4','Effect_5'])\n",
        "\n",
        "df_flavors = pd.DataFrame(data.Flavor.str.split(',',n=2,expand=True).values.tolist(),\n",
        "                          columns = ['Flavor_1','Flavor_2','Flavor_3'])"
      ],
      "metadata": {
        "id": "EWJ4BAuNP2Y8"
      },
      "execution_count": null,
      "outputs": []
    },
    {
      "cell_type": "code",
      "source": [
        "data = pd.concat([data, df_effect], axis=1)\n",
        "data = pd.concat([data, df_flavors], axis=1)"
      ],
      "metadata": {
        "id": "AecnoKX0RRVd"
      },
      "execution_count": null,
      "outputs": []
    },
    {
      "cell_type": "code",
      "source": [
        "plt.figure(figsize=(14,6))\n",
        "sns.countplot('Flavor_1', data=data)\n",
        "plt.xticks(rotation=90)\n",
        "plt.xlabel('', fontsize=15)\n",
        "plt.ylabel('Frequency', fontsize=15)\n",
        "plt.title(\"Частота встречаемости вкусов канабиса \",\n",
        "          fontsize=20)\n",
        "plt.show()"
      ],
      "metadata": {
        "colab": {
          "base_uri": "https://localhost:8080/",
          "height": 449
        },
        "id": "PfMKyN3aRIoM",
        "outputId": "2c15854a-57c2-4d63-e346-abbbeb95dc78"
      },
      "execution_count": null,
      "outputs": [
        {
          "output_type": "display_data",
          "data": {
            "text/plain": [
              "<Figure size 1008x432 with 1 Axes>"
            ],
            "image/png": "[encoded data removed]"
          },
          "metadata": {
            "needs_background": "light"
          }
        }
      ]
    },
    {
      "cell_type": "markdown",
      "source": [
        "Реузьтатом данной диаграммы является то, что вкус \"Earthly\" наиболее частовстречаемый."
      ],
      "metadata": {
        "id": "hAMMzsrgXIYT"
      }
    }
  ]
}